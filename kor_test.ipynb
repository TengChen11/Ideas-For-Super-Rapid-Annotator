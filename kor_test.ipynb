{
 "cells": [
  {
   "cell_type": "code",
   "execution_count": 1,
   "metadata": {},
   "outputs": [],
   "source": [
    "from kor import create_extraction_chain, Object, Text\n",
    "\n",
    "llm = '' # the llm here need to be deployed because we cannot use external APIs like ChatOpenAI\n",
    "'''\n",
    "from transformers import AutoTokenizer, AutoModel\n",
    "model_id = ''\n",
    "tokenizer = AutoTokenizer.from_pretrained(model_id, trust_remote_code=True)\n",
    "llm = AutoModel.from_pretrained(model_id, trust_remote_code=True).half().cuda()\n",
    "'''"
   ]
  },
  {
   "cell_type": "code",
   "execution_count": null,
   "metadata": {},
   "outputs": [],
   "source": [
    "schema = Object(\n",
    "    id=\"question_keyword_extractor\",\n",
    "    description=\"Extract questions from a text and the keywords from the extracted questions\",\n",
    "    attributes=[\n",
    "        Text(\n",
    "            id=\"question\",\n",
    "            description=\"The question extracted from this text\",\n",
    "            examples=[(\"I have a question, why the baby is so cute in the video?\", \"Why the baby in the video is so cute?\")],\n",
    "        ),\n",
    "        Text(\n",
    "            id=\"keyword\",\n",
    "            description=\"The keyword extracted from a question\",\n",
    "            examples=[(\"Can you see the car in the video?\", \"car\"),\n",
    "                      (\"Is it inside or outside?\", \"inside\")],\n",
    "        ),\n",
    "    ],\n",
    "    examples=[\n",
    "        (\n",
    "            \"There is a video and I have some questions. Is the person in the video standup? Can you see the hands of the person?\",\n",
    "            [\n",
    "                {\"question\": \"Is the person in the video standup?\", \"keyword\": \"standup\"},\n",
    "                {\"question\": \"Can you see the hands of the person?\", \"keyword\": \"hands\"},\n",
    "            ],\n",
    "        )\n",
    "    ],\n",
    "    many=False,\n",
    ")"
   ]
  },
  {
   "cell_type": "code",
   "execution_count": null,
   "metadata": {},
   "outputs": [],
   "source": [
    "chain = create_extraction_chain(llm, schema, encoder_or_encoder_class='json')\n",
    "res = chain.invoke(\"I have some questions. Is there a dog in the video? Can you see a tree in the video?\")['data']\n",
    "#Cannot work currently"
   ]
  }
 ],
 "metadata": {
  "kernelspec": {
   "display_name": "gradio",
   "language": "python",
   "name": "python3"
  },
  "language_info": {
   "codemirror_mode": {
    "name": "ipython",
    "version": 3
   },
   "file_extension": ".py",
   "mimetype": "text/x-python",
   "name": "python",
   "nbconvert_exporter": "python",
   "pygments_lexer": "ipython3",
   "version": "3.8.16"
  }
 },
 "nbformat": 4,
 "nbformat_minor": 2
}
