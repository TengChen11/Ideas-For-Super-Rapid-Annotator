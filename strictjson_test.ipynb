{
 "cells": [
  {
   "cell_type": "markdown",
   "metadata": {},
   "source": [
    "For example the input json is like:\n",
    "\n",
    "{\n",
    "\n",
    "“description”: “Is the person in the image standup?”,\n",
    "\n",
    "“value”: “standup”\n",
    "\n",
    "},\n",
    "\n",
    "{\n",
    "\n",
    "“description”: “Can you see the hands of the person?”,\n",
    "\n",
    "“value”: “hands”\n",
    "\n",
    "},\n",
    "\n",
    "{\n",
    "\n",
    "“description”: “Is it inside or outside?”,\n",
    "\n",
    "“value”: “inside”\n",
    "\n",
    "}\n",
    "\n",
    "Then the usage of strictjson will be like:"
   ]
  },
  {
   "cell_type": "code",
   "execution_count": null,
   "metadata": {},
   "outputs": [],
   "source": [
    "from strictjson import *\n",
    "\n",
    "res = strict_json(system_prompt = 'You are a classifier',\n",
    "                    user_prompt = '', # the user_prompt should be the output of the multimodal model\n",
    "                    output_format = {'standup': 'Is the person in the image standup, type:bool',\n",
    "                                    'hands': 'Can you see the hands of the person, type:bool',\n",
    "                                    'inside': 'Is it inside or outside, type:bool'})"
   ]
  },
  {
   "cell_type": "markdown",
   "metadata": {},
   "source": [
    "By the way, we suppose the output of the model is like 'The person is standup and I can also see the hands of the person and it is outside.'\n",
    "Based on it, the strict_json is like:\n",
    "res = strict_json(system_prompt = 'You are a classifier',\n",
    "                    user_prompt = 'The person is standup and I can also see the hands of the person and it is outside', \n",
    "                    output_format = {'standup': 'Is the person in the image standup, type:bool',\n",
    "                                    'hands': 'Can you see the hands of the person, type:bool',\n",
    "                                    'inside': 'Is it inside or outside, type:bool'})\n",
    "and the res will be expected to be like:\n",
    "a json ouput:\n",
    "{\n",
    "    'standup':True\n",
    "    'hands':True\n",
    "    'inside':False\n",
    "} "
   ]
  }
 ],
 "metadata": {
  "kernelspec": {
   "display_name": "evoxbench",
   "language": "python",
   "name": "python3"
  },
  "language_info": {
   "codemirror_mode": {
    "name": "ipython",
    "version": 3
   },
   "file_extension": ".py",
   "mimetype": "text/x-python",
   "name": "python",
   "nbconvert_exporter": "python",
   "pygments_lexer": "ipython3",
   "version": "3.9.18"
  }
 },
 "nbformat": 4,
 "nbformat_minor": 2
}
