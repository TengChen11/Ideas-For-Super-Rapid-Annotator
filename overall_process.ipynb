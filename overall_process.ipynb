{
 "cells": [
  {
   "cell_type": "markdown",
   "metadata": {},
   "source": [
    "Step 1: user input\n",
    "\n",
    "User input should be a text that contains questions. "
   ]
  },
  {
   "cell_type": "code",
   "execution_count": null,
   "metadata": {},
   "outputs": [],
   "source": [
    "user_input = ''"
   ]
  },
  {
   "cell_type": "markdown",
   "metadata": {},
   "source": [
    "Step 2: extract questions and keywords\n",
    "\n",
    "Refer to kor_test.ipynb"
   ]
  },
  {
   "cell_type": "markdown",
   "metadata": {},
   "source": [
    "Step 3: model inference"
   ]
  },
  {
   "cell_type": "code",
   "execution_count": null,
   "metadata": {},
   "outputs": [],
   "source": [
    "import torch\n",
    "from videollava.constants import IMAGE_TOKEN_INDEX, DEFAULT_IMAGE_TOKEN\n",
    "from videollava.conversation import conv_templates, SeparatorStyle\n",
    "from videollava.model.builder import load_pretrained_model\n",
    "from videollava.utils import disable_torch_init\n",
    "from videollava.mm_utils import tokenizer_image_token, get_model_name_from_path, KeywordsStoppingCriteria\n",
    "\n",
    "\n",
    "disable_torch_init()\n",
    "video = ''\n",
    "inp = '' # Here should be the questions got from step2\n",
    "model_path = ''\n",
    "cache_dir = 'cache_dir'\n",
    "device = 'cuda'\n",
    "load_4bit, load_8bit = True, False\n",
    "model_name = get_model_name_from_path(model_path)\n",
    "tokenizer, model, processor, _ = load_pretrained_model(model_path, None, model_name, load_8bit, load_4bit, device=device, cache_dir=cache_dir)\n",
    "video_processor = processor['video']\n",
    "conv_mode = \"llava_v1\"\n",
    "conv = conv_templates[conv_mode].copy()\n",
    "roles = conv.roles\n",
    "\n",
    "video_tensor = video_processor(video, return_tensors='pt')['pixel_values']\n",
    "if type(video_tensor) is list:\n",
    "    tensor = [video.to(model.device, dtype=torch.float16) for video in video_tensor]\n",
    "else:\n",
    "    tensor = video_tensor.to(model.device, dtype=torch.float16)\n",
    "\n",
    "print(f\"{roles[1]}: {inp}\")\n",
    "inp = ' '.join([DEFAULT_IMAGE_TOKEN] * model.get_video_tower().config.num_frames) + '\\n' + inp\n",
    "conv.append_message(conv.roles[0], inp)\n",
    "conv.append_message(conv.roles[1], None)\n",
    "prompt = conv.get_prompt()\n",
    "input_ids = tokenizer_image_token(prompt, tokenizer, IMAGE_TOKEN_INDEX, return_tensors='pt').unsqueeze(0).cuda()\n",
    "stop_str = conv.sep if conv.sep_style != SeparatorStyle.TWO else conv.sep2\n",
    "keywords = [stop_str]\n",
    "stopping_criteria = KeywordsStoppingCriteria(keywords, tokenizer, input_ids)\n",
    "\n",
    "with torch.inference_mode():\n",
    "    output_ids = model.generate(\n",
    "        input_ids,\n",
    "        images=tensor,\n",
    "        do_sample=True,\n",
    "        temperature=0.1,\n",
    "        max_new_tokens=1024,\n",
    "        use_cache=True,\n",
    "        stopping_criteria=[stopping_criteria])\n",
    "\n",
    "outputs = tokenizer.decode(output_ids[0, input_ids.shape[1]:]).strip()\n",
    "# the type of outputs is str, and the output is the answer of the input question."
   ]
  },
  {
   "cell_type": "markdown",
   "metadata": {},
   "source": [
    "step 4: generate json output\n",
    "\n",
    "refer to strictjson_test.ipynb"
   ]
  },
  {
   "cell_type": "markdown",
   "metadata": {},
   "source": [
    "step 5: develop a gradio app for this process"
   ]
  }
 ],
 "metadata": {
  "kernelspec": {
   "display_name": "evoxbench",
   "language": "python",
   "name": "python3"
  },
  "language_info": {
   "name": "python",
   "version": "3.9.18"
  }
 },
 "nbformat": 4,
 "nbformat_minor": 2
}
